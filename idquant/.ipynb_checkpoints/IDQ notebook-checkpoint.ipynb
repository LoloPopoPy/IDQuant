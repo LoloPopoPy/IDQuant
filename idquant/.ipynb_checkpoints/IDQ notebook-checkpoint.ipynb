{
 "cells": [
  {
   "cell_type": "code",
   "execution_count": null,
   "metadata": {},
   "outputs": [],
   "source": [
    "from IDQ_notebook_control import *\n",
    "from data_processing import *\n",
    "from function_calculate_polynomial import *\n",
    "\n",
    "upload_data_btn = make_upload_btn()\n",
    "upload_conc_calib_btn = make_upload_conc_calib_btn()\n",
    "\n",
    "vh.out.clear_output()\n",
    "vh.debug_view.clear_output()\n",
    "\n",
    "with vh.out:\n",
    "    display(upload_data_btn, upload_conc_calib_btn, submit_btn, processing_btn)\n",
    "\n",
    "display(vh.out, vh.debug_view)"
   ]
  },
  {
   "cell_type": "code",
   "execution_count": null,
   "metadata": {},
   "outputs": [],
   "source": [
    "import math\n",
    "\n",
    "a = -0.006766\n",
    "b = 0.393\n",
    "c = float(input(\"Enter the coefficients of c: \"))\n",
    "\n",
    "d = b**2-4*a*c # discriminant\n",
    "\n",
    "if d < 0:\n",
    "    print (\"This equation has no real solution\")\n",
    "elif d == 0:\n",
    "    x = (-b+math.sqrt(b**2-4*a*c))/2*a\n",
    "    print (\"This equation has one solutions: \"), x\n",
    "else:\n",
    "    x1 = (-b+math.sqrt((b**2)-(4*(a*c))))/(2*a)\n",
    "    x2 = (-b-math.sqrt((b**2)-(4*(a*c))))/(2*a)\n",
    "    print (\"This equation has two solutions: \", x1, \" or\", x2)\n"
   ]
  },
  {
   "cell_type": "code",
   "execution_count": null,
   "metadata": {},
   "outputs": [],
   "source": [
    "data_df.set_index([\"metabolite\"], inplace=True)\n",
    "    cal_df.set_index([\"metabolite\"], inplace=True)\n",
    "    \n",
    "    data_df.sort_values(by='names',\n",
    "                        key = lambda x: np.argsort(index_natsorted(x)), \n",
    "                        inplace=True)\n",
    "    cal_df.sort_values(by='names', \n",
    "                       key = lambda x: np.argsort(index_natsorted(x)), \n",
    "                       inplace=True)\n",
    "    \n",
    "    data_df.set_index(['metabolite', \"names\"], inplace=True)\n",
    "    cal_df.set_index(['metabolite', \"names\"], inplace=True)"
   ]
  }
 ],
 "metadata": {
  "kernelspec": {
   "display_name": "Python 3",
   "language": "python",
   "name": "python3"
  },
  "language_info": {
   "codemirror_mode": {
    "name": "ipython",
    "version": 3
   },
   "file_extension": ".py",
   "mimetype": "text/x-python",
   "name": "python",
   "nbconvert_exporter": "python",
   "pygments_lexer": "ipython3",
   "version": "3.8.5"
  }
 },
 "nbformat": 4,
 "nbformat_minor": 4
}
