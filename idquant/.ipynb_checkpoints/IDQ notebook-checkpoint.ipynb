{
 "cells": [
  {
   "cell_type": "code",
   "execution_count": null,
   "metadata": {},
   "outputs": [],
   "source": [
    "from idquant.IDQ_notebook_control import *\n",
    "\n",
    "upload_data_btn = make_upload_btn()\n",
    "upload_conc_calib_btn = make_upload_conc_calib_btn()\n",
    "text_box = make_text_box()\n",
    "log_lvl = make_log_lvl()\n",
    "\n",
    "vh.out.clear_output()\n",
    "vh.debug_view.clear_output()\n",
    "\n",
    "with vh.out:\n",
    "    display(text_box, \n",
    "            upload_data_btn, \n",
    "            upload_conc_calib_btn, \n",
    "            submit_btn, \n",
    "            processing_btn,\n",
    "            log_lvl)\n",
    "\n",
    "display(vh.out, vh.debug_view)"
   ]
  }
 ],
 "metadata": {
  "kernelspec": {
   "display_name": "Python 3",
   "language": "python",
   "name": "python3"
  },
  "language_info": {
   "codemirror_mode": {
    "name": "ipython",
    "version": 3
   },
   "file_extension": ".py",
   "mimetype": "text/x-python",
   "name": "python",
   "nbconvert_exporter": "python",
   "pygments_lexer": "ipython3",
   "version": "3.8.5"
  }
 },
 "nbformat": 4,
 "nbformat_minor": 4
}
